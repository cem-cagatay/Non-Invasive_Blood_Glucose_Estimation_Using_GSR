{
 "cells": [
  {
   "cell_type": "code",
   "execution_count": 1,
   "id": "495d69e3-b281-4bed-b600-615cbd0912b5",
   "metadata": {},
   "outputs": [],
   "source": [
    "import pandas as pd\n",
    "import numpy as np\n",
    "from sklearn.model_selection import train_test_split\n",
    "from sklearn.linear_model import LinearRegression\n",
    "from sklearn.preprocessing import StandardScaler\n",
    "from sklearn.metrics import mean_squared_error, r2_score\n",
    "import matplotlib.pyplot as plt"
   ]
  },
  {
   "cell_type": "code",
   "execution_count": 7,
   "id": "e1d5a7f2-c864-43db-9040-ab1467ed0af4",
   "metadata": {},
   "outputs": [],
   "source": [
    "data_path = r'C:\\Users\\2024\\Downloads\\augmented_data.ods'\n",
    "data = pd.read_excel(data_path, engine='odf')\n",
    "\n",
    "# feature and target separation\n",
    "X = data[['GSR Voltage']].values  # input variable\n",
    "y = data['Blood Sugar'].values    # output variable\n",
    "\n",
    "# split the data into training and testing sets\n",
    "X_train, X_test, y_train, y_test = train_test_split(X, y, test_size=0.2, random_state=42)\n",
    "\n",
    "# standardization\n",
    "scaler = StandardScaler()\n",
    "X_train_scaled = scaler.fit_transform(X_train)\n",
    "X_test_scaled = scaler.transform(X_test)\n",
    "\n",
    "# linear regression model\n",
    "model = LinearRegression()\n",
    "model.fit(X_train_scaled, y_train)\n",
    "\n",
    "# predictions\n",
    "y_pred_train = model.predict(X_train_scaled)\n",
    "y_pred_test = model.predict(X_test_scaled)\n",
    "\n",
    "# model evaluation\n",
    "train_mse = mean_squared_error(y_train, y_pred_train)\n",
    "test_mse = mean_squared_error(y_test, y_pred_test)\n",
    "train_r2 = r2_score(y_train, y_pred_train)\n",
    "test_r2 = r2_score(y_test, y_pred_test)\n"
   ]
  },
  {
   "cell_type": "code",
   "execution_count": 9,
   "id": "1756b1bd-116d-4237-a562-1ef5b2dc9c42",
   "metadata": {},
   "outputs": [
    {
     "name": "stdout",
     "output_type": "stream",
     "text": [
      "Training MSE: 127.28\n",
      "Testing MSE: 179.81\n",
      "Training R2: 0.13\n",
      "Testing R2: 0.06\n"
     ]
    }
   ],
   "source": [
    "print(f\"Training MSE: {train_mse:.2f}\")\n",
    "print(f\"Testing MSE: {test_mse:.2f}\")\n",
    "print(f\"Training R2: {train_r2:.2f}\")\n",
    "print(f\"Testing R2: {test_r2:.2f}\")"
   ]
  },
  {
   "cell_type": "code",
   "execution_count": null,
   "id": "beb3dd9c-dfc4-4752-b867-706ced669ba2",
   "metadata": {},
   "outputs": [],
   "source": [
    "# visualize the results\n",
    "plt.scatter(X_test, y_test, color='blue', label='Actual Values')\n",
    "plt.scatter(X_test, y_pred_test, color='red', alpha=0.5, label='Predicted Values')\n",
    "plt.title('Blood Sugar vs GSR Voltage')\n",
    "plt.xlabel('GSR Voltage')\n",
    "plt.ylabel('Blood Sugar')\n",
    "plt.legend()\n",
    "plt.show()"
   ]
  },
  {
   "cell_type": "code",
   "execution_count": null,
   "id": "7d936a9b-d61a-47cb-bbf1-7ac844ce4abd",
   "metadata": {},
   "outputs": [],
   "source": []
  }
 ],
 "metadata": {
  "kernelspec": {
   "display_name": "Python 3 (ipykernel)",
   "language": "python",
   "name": "python3"
  },
  "language_info": {
   "codemirror_mode": {
    "name": "ipython",
    "version": 3
   },
   "file_extension": ".py",
   "mimetype": "text/x-python",
   "name": "python",
   "nbconvert_exporter": "python",
   "pygments_lexer": "ipython3",
   "version": "3.12.4"
  }
 },
 "nbformat": 4,
 "nbformat_minor": 5
}
