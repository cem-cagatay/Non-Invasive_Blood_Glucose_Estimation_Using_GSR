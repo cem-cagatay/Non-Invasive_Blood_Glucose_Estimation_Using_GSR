{
 "cells": [
  {
   "cell_type": "code",
   "execution_count": null,
   "id": "15464421-1f42-4779-8e59-5a1a21316dfd",
   "metadata": {},
   "outputs": [],
   "source": [
    "import pandas as pd\n",
    "import numpy as np\n",
    "from sklearn.model_selection import train_test_split, cross_val_score, KFold\n",
    "from sklearn.linear_model import LinearRegression, Ridge, Lasso\n",
    "from sklearn.preprocessing import StandardScaler, PolynomialFeatures\n",
    "from sklearn.metrics import mean_squared_error, r2_score\n",
    "import matplotlib.pyplot as plt\n",
    "import seaborn as sns"
   ]
  },
  {
   "cell_type": "code",
   "execution_count": null,
   "id": "7d18dbc5-4aa7-402b-a1ef-14c37bb33716",
   "metadata": {},
   "outputs": [],
   "source": [
    "data_path = r'C:\\Users\\2024\\Downloads\\augmented_data.ods'\n",
    "data = pd.read_excel(data_path, engine='odf')\n",
    "\n",
    "# feature and target separation\n",
    "X = data[['GSR Voltage']].values  # Input variable\n",
    "y = data['Blood Sugar'].values    # Output variable\n",
    "\n",
    "# split the data into training and testing sets\n",
    "X_train, X_test, y_train, y_test = train_test_split(X, y, test_size=0.2, random_state=42)\n",
    "\n",
    "# standardization\n",
    "scaler = StandardScaler()\n",
    "X_train_scaled = scaler.fit_transform(X_train)\n",
    "X_test_scaled = scaler.transform(X_test)\n"
   ]
  },
  {
   "cell_type": "code",
   "execution_count": null,
   "id": "861ff0a2-dd1f-48c0-9b99-32e185bd0dea",
   "metadata": {},
   "outputs": [],
   "source": [
    "# Linear Regression Model\n",
    "linear_model = LinearRegression()\n",
    "linear_model.fit(X_train_scaled, y_train)\n",
    "\n",
    "# Predictions for Linear Regression\n",
    "y_pred_train = linear_model.predict(X_train_scaled)\n",
    "y_pred_test = linear_model.predict(X_test_scaled)\n",
    "\n",
    "# Model evaluation for Linear Regression\n",
    "train_mse = mean_squared_error(y_train, y_pred_train)\n",
    "test_mse = mean_squared_error(y_test, y_pred_test)\n",
    "train_r2 = r2_score(y_train, y_pred_train)\n",
    "test_r2 = r2_score(y_test, y_pred_test)\n",
    "\n",
    "print(f\"Linear Regression Training MSE: {train_mse:.2f}\")\n",
    "print(f\"Linear Regression Testing MSE: {test_mse:.2f}\")\n",
    "print(f\"Linear Regression Training R2: {train_r2:.2f}\")\n",
    "print(f\"Linear Regression Testing R2: {test_r2:.2f}\")"
   ]
  },
  {
   "cell_type": "code",
   "execution_count": null,
   "id": "4c927cc3-7056-42ed-9527-ed62a516054e",
   "metadata": {},
   "outputs": [],
   "source": [
    "# feature extraction with polynomial features\n",
    "poly = PolynomialFeatures(degree=2, include_bias=False)\n",
    "X_train_poly = poly.fit_transform(X_train_scaled)\n",
    "X_test_poly = poly.transform(X_test_scaled)\n",
    "\n",
    "# ridge regression with cross-validation\n",
    "kf = KFold(n_splits=5, shuffle=True, random_state=42)\n",
    "ridge = Ridge(alpha=1.0)\n",
    "ridge_scores = cross_val_score(ridge, X_train_poly, y_train, cv=kf, scoring='neg_mean_squared_error')\n",
    "\n",
    "# train ridge regression model\n",
    "ridge.fit(X_train_poly, y_train)\n",
    "y_pred_ridge = ridge.predict(X_test_poly)"
   ]
  },
  {
   "cell_type": "code",
   "execution_count": null,
   "id": "ce4fc6eb-a135-4c9a-aed6-4ae454984d21",
   "metadata": {},
   "outputs": [],
   "source": [
    "# metrics for ridge regression\n",
    "ridge_test_mse = mean_squared_error(y_test, y_pred_ridge)\n",
    "ridge_test_r2 = r2_score(y_test, y_pred_ridge)\n",
    "\n",
    "print(f\"Ridge Regression Testing MSE: {ridge_test_mse:.2f}\")\n",
    "print(f\"Ridge Regression Testing R2: {ridge_test_r2:.2f}\")\n",
    "print(f\"Ridge Cross-Validation MSE: {-ridge_scores.mean():.2f}\")\n",
    "\n",
    "# residual analysis\n",
    "residuals = y_test - y_pred_ridge"
   ]
  },
  {
   "cell_type": "code",
   "execution_count": null,
   "id": "b7600003-9e4d-4664-a117-797556b9ee8c",
   "metadata": {},
   "outputs": [],
   "source": [
    "\n",
    "plt.figure(figsize=(8, 5))\n",
    "sns.histplot(residuals, kde=True, bins=20, color='green')\n",
    "plt.title('Residual Distribution')\n",
    "plt.xlabel('Residuals')\n",
    "plt.ylabel('Frequency')\n",
    "plt.show()\n",
    "\n",
    "# scatter plot of Residuals\n",
    "plt.scatter(y_pred_ridge, residuals, alpha=0.7)\n",
    "plt.axhline(0, color='red', linestyle='--')\n",
    "plt.title('Residuals vs Predicted Values')\n",
    "plt.xlabel('Predicted Blood Sugar')\n",
    "plt.ylabel('Residuals')\n",
    "plt.show()\n",
    "\n",
    "# visualization of predicted vs actual\n",
    "plt.figure(figsize=(8, 5))\n",
    "plt.scatter(X_test, y_test, color='blue', label='Actual Values')\n",
    "plt.scatter(X_test, y_pred_ridge, color='red', alpha=0.5, label='Predicted Values')\n",
    "plt.title('Blood Sugar vs GSR Voltage (Ridge Regression)')\n",
    "plt.xlabel('GSR Voltage')\n",
    "plt.ylabel('Blood Sugar')\n",
    "plt.legend()\n",
    "plt.show()"
   ]
  }
 ],
 "metadata": {
  "kernelspec": {
   "display_name": "Python 3 (ipykernel)",
   "language": "python",
   "name": "python3"
  },
  "language_info": {
   "codemirror_mode": {
    "name": "ipython",
    "version": 3
   },
   "file_extension": ".py",
   "mimetype": "text/x-python",
   "name": "python",
   "nbconvert_exporter": "python",
   "pygments_lexer": "ipython3",
   "version": "3.12.3"
  }
 },
 "nbformat": 4,
 "nbformat_minor": 5
}
